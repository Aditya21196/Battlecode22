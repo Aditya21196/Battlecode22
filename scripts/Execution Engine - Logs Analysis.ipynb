{
 "cells": [
  {
   "cell_type": "code",
   "execution_count": 545,
   "id": "8d13b048",
   "metadata": {},
   "outputs": [],
   "source": [
    "import subprocess\n",
    "\n",
    "def match(teamA='examplefuncsplayer',teamB='examplefuncsplayer',field='eckleburg'):\n",
    "    s = f\"/Users/adityachawla/bc22/Battlecode22/gradlew run -PteamA={teamA} -PteamB={teamB} -Pmaps={field} -PprofilerEnabled=false\"\n",
    "    return s.split()\n"
   ]
  },
  {
   "cell_type": "code",
   "execution_count": 546,
   "id": "7a23ecdf",
   "metadata": {
    "scrolled": true
   },
   "outputs": [],
   "source": [
    "process = subprocess.Popen(match('examplefuncsplayer','defensivebot2'), stdout=subprocess.PIPE) "
   ]
  },
  {
   "cell_type": "code",
   "execution_count": 547,
   "id": "f052274a",
   "metadata": {},
   "outputs": [],
   "source": [
    "logs_str = process.stdout.read().decode(\"utf-8\") \n",
    "logs = logs_str.split('\\n')"
   ]
  },
  {
   "cell_type": "code",
   "execution_count": 548,
   "id": "2253b749",
   "metadata": {},
   "outputs": [
    {
     "data": {
      "text/plain": [
       "83838"
      ]
     },
     "execution_count": 548,
     "metadata": {},
     "output_type": "execute_result"
    }
   ],
   "source": [
    "len(logs)"
   ]
  },
  {
   "cell_type": "code",
   "execution_count": 549,
   "id": "36a6b142",
   "metadata": {},
   "outputs": [],
   "source": [
    "import re\n",
    "from collections import defaultdict\n",
    "\n",
    "d = defaultdict(lambda : defaultdict(int))\n",
    "actions = []\n",
    "\n",
    "\n",
    "for log in logs:\n",
    "    matches = re.findall(r'\\[(\\w):(\\w*)#(\\w*)@(\\d*)\\].*?(\\d).*?msg: bytecode remaining after (\\w*): (\\d*)',log)\n",
    "    if len(matches) == 0:\n",
    "        continue\n",
    "    team,unit,uid,roundnum,turn,action,bytecode = matches[0]\n",
    "    if action == 'comms':\n",
    "        d[unit]['count'] += 1\n",
    "        d[unit]['bytecode'] += int(bytecode)\n",
    "    actions.append((uid,action))\n",
    "action_break = []\n",
    "\n",
    "lis = []\n",
    "prev = (None,None)\n",
    "for action in actions:\n",
    "    if action[0] != prev[0]:\n",
    "        if prev[0] is not None:\n",
    "            action_break.append(lis)\n",
    "        lis = []\n",
    "    prev = action\n",
    "    lis.append(action)"
   ]
  },
  {
   "cell_type": "code",
   "execution_count": 550,
   "id": "73c9e11d",
   "metadata": {},
   "outputs": [
    {
     "name": "stdout",
     "output_type": "stream",
     "text": [
      "average unutilized bytecode for ARCHON is 15951.992588932806\n",
      "average unutilized bytecode for MINER is 3522.619527670074\n",
      "average unutilized bytecode for SOLDIER is 5567.407795371498\n"
     ]
    }
   ],
   "source": [
    "for unit, stats in d.items():\n",
    "    print('average unutilized bytecode for',unit,'is',stats['bytecode']/stats['count'])"
   ]
  },
  {
   "cell_type": "code",
   "execution_count": 551,
   "id": "15858644",
   "metadata": {},
   "outputs": [
    {
     "data": {
      "text/plain": [
       "Counter({2: 2550, 3: 25980, 1: 520})"
      ]
     },
     "execution_count": 551,
     "metadata": {},
     "output_type": "execute_result"
    }
   ],
   "source": [
    "from collections import Counter\n",
    "Counter([len(a) for a in action_break])"
   ]
  },
  {
   "cell_type": "code",
   "execution_count": null,
   "id": "02023d27",
   "metadata": {},
   "outputs": [],
   "source": []
  }
 ],
 "metadata": {
  "kernelspec": {
   "display_name": "Python 3 (ipykernel)",
   "language": "python",
   "name": "python3"
  },
  "language_info": {
   "codemirror_mode": {
    "name": "ipython",
    "version": 3
   },
   "file_extension": ".py",
   "mimetype": "text/x-python",
   "name": "python",
   "nbconvert_exporter": "python",
   "pygments_lexer": "ipython3",
   "version": "3.8.8"
  }
 },
 "nbformat": 4,
 "nbformat_minor": 5
}
