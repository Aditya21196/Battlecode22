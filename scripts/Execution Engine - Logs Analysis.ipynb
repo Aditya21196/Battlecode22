{
 "cells": [
  {
   "cell_type": "code",
   "execution_count": 378,
   "id": "8d13b048",
   "metadata": {},
   "outputs": [],
   "source": [
    "import subprocess\n",
    "\n",
    "def match(teamA='examplefuncsplayer',teamB='examplefuncsplayer',field='eckleburg'):\n",
    "    s = f\"/Users/adityachawla/bc22/Battlecode22/gradlew run -PteamA={teamA} -PteamB={teamB} -Pmaps={field} -PprofilerEnabled=false\"\n",
    "    return s.split()\n"
   ]
  },
  {
   "cell_type": "code",
   "execution_count": 389,
   "id": "7a23ecdf",
   "metadata": {
    "scrolled": true
   },
   "outputs": [],
   "source": [
    "process = subprocess.Popen(match('examplefuncsplayer','defensivebot2'), stdout=subprocess.PIPE) "
   ]
  },
  {
   "cell_type": "code",
   "execution_count": 390,
   "id": "b03ed860",
   "metadata": {},
   "outputs": [],
   "source": [
    "process.poll()"
   ]
  },
  {
   "cell_type": "code",
   "execution_count": 391,
   "id": "f052274a",
   "metadata": {},
   "outputs": [],
   "source": [
    "logs_str = process.stdout.read().decode(\"utf-8\") \n",
    "logs = logs_str.split('\\n')"
   ]
  },
  {
   "cell_type": "code",
   "execution_count": 392,
   "id": "2253b749",
   "metadata": {},
   "outputs": [
    {
     "data": {
      "text/plain": [
       "312042"
      ]
     },
     "execution_count": 392,
     "metadata": {},
     "output_type": "execute_result"
    }
   ],
   "source": [
    "len(logs)"
   ]
  },
  {
   "cell_type": "code",
   "execution_count": 393,
   "id": "e5e1785e",
   "metadata": {},
   "outputs": [],
   "source": [
    "import re"
   ]
  },
  {
   "cell_type": "code",
   "execution_count": 394,
   "id": "cf12b0cd",
   "metadata": {},
   "outputs": [],
   "source": [
    "bytecode_regex = r'\\[(\\w):(\\w*)#(\\w*)@(\\d*)\\].*?(\\d).*?msg: bytecode remaining after (\\w*): (\\d*)'"
   ]
  },
  {
   "cell_type": "code",
   "execution_count": 395,
   "id": "04bc23b5",
   "metadata": {
    "scrolled": true
   },
   "outputs": [
    {
     "data": {
      "text/plain": [
       "['[B:MINER#11535@2000] [1410] msg: bytecode remaining after sensing: 6737',\n",
       " '[B:MINER#11535@2000] [1410] msg: bytecode remaining after acting: 2761',\n",
       " '[B:MINER#11535@2000] [1410] msg: bytecode remaining after comms: 781',\n",
       " '[B:MINER#12331@2000] [1750] msg: bytecode remaining after sensing: 6681',\n",
       " '[B:MINER#12331@2000] [1750] msg: bytecode remaining after acting: 6504',\n",
       " '[B:MINER#12331@2000] [1750] msg: bytecode remaining after comms: 3684',\n",
       " '[B:MINER#13698@2000] [1492] msg: bytecode remaining after sensing: 6737',\n",
       " '[B:MINER#13698@2000] [1492] msg: bytecode remaining after acting: 3670',\n",
       " '[B:MINER#13698@2000] [1492] msg: bytecode remaining after comms: 1690',\n",
       " '[server]                 defensivebot2 (B) wins (round 2000)',\n",
       " '[server] Reason: The winning team won on tiebreakers (more lead net worth).',\n",
       " '[server] -------------------- Match Finished --------------------',\n",
       " '[server:debug] match completed in 15.55 seconds',\n",
       " '[server:debug] Awaiting match',\n",
       " '[server:debug] Shutting down server',\n",
       " 'Closed: /0:0:0:0:0:0:0:1:59377 for null',\n",
       " '',\n",
       " 'BUILD SUCCESSFUL in 16s',\n",
       " '9 actionable tasks: 2 executed, 7 up-to-date',\n",
       " '']"
      ]
     },
     "execution_count": 395,
     "metadata": {},
     "output_type": "execute_result"
    }
   ],
   "source": [
    "logs[-20:]"
   ]
  },
  {
   "cell_type": "code",
   "execution_count": 396,
   "id": "36a6b142",
   "metadata": {},
   "outputs": [],
   "source": [
    "actions = []\n",
    "for log in logs:\n",
    "    matches = re.findall(r'\\[(\\w):(\\w*)#(\\w*)@(\\d*)\\].*?(\\d).*?msg: bytecode remaining after (\\w*): (\\d*)',log)\n",
    "    if len(matches) == 0:\n",
    "        continue\n",
    "    team,unit,uid,roundnum,turn,action,bytecode = matches[0]\n",
    "    actions.append((uid,action))"
   ]
  },
  {
   "cell_type": "code",
   "execution_count": 397,
   "id": "4c4efeef",
   "metadata": {},
   "outputs": [],
   "source": [
    "action_break = []\n",
    "\n",
    "lis = []\n",
    "prev = (None,None)\n",
    "for action in actions:\n",
    "    if action[0] != prev[0]:\n",
    "        if prev[0] is not None:\n",
    "            action_break.append(lis)\n",
    "        lis = []\n",
    "    prev = action\n",
    "    lis.append(action)"
   ]
  },
  {
   "cell_type": "code",
   "execution_count": 398,
   "id": "15858644",
   "metadata": {},
   "outputs": [
    {
     "data": {
      "text/plain": [
       "Counter({3: 97428, 2: 6458, 1: 6806})"
      ]
     },
     "execution_count": 398,
     "metadata": {},
     "output_type": "execute_result"
    }
   ],
   "source": [
    "from collections import Counter\n",
    "Counter([len(a) for a in action_break])"
   ]
  },
  {
   "cell_type": "code",
   "execution_count": 198,
   "id": "581f5f17",
   "metadata": {},
   "outputs": [
    {
     "data": {
      "text/plain": [
       "[('B', 'ARCHON', '2', '1', '1', 'sensing', '12825')]"
      ]
     },
     "execution_count": 198,
     "metadata": {},
     "output_type": "execute_result"
    }
   ],
   "source": [
    "matches"
   ]
  },
  {
   "cell_type": "code",
   "execution_count": 160,
   "id": "814de567",
   "metadata": {},
   "outputs": [
    {
     "data": {
      "text/plain": [
       "['[2]']"
      ]
     },
     "execution_count": 160,
     "metadata": {},
     "output_type": "execute_result"
    }
   ],
   "source": [
    "re.findall(r'\\[\\d\\]',logs[50])"
   ]
  },
  {
   "cell_type": "code",
   "execution_count": null,
   "id": "02023d27",
   "metadata": {},
   "outputs": [],
   "source": []
  }
 ],
 "metadata": {
  "kernelspec": {
   "display_name": "Python 3 (ipykernel)",
   "language": "python",
   "name": "python3"
  },
  "language_info": {
   "codemirror_mode": {
    "name": "ipython",
    "version": 3
   },
   "file_extension": ".py",
   "mimetype": "text/x-python",
   "name": "python",
   "nbconvert_exporter": "python",
   "pygments_lexer": "ipython3",
   "version": "3.8.8"
  }
 },
 "nbformat": 4,
 "nbformat_minor": 5
}
