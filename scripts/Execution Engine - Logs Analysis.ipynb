{
 "cells": [
  {
   "cell_type": "code",
   "execution_count": 457,
   "id": "8d13b048",
   "metadata": {},
   "outputs": [],
   "source": [
    "import subprocess\n",
    "\n",
    "def match(teamA='examplefuncsplayer',teamB='examplefuncsplayer',field='eckleburg'):\n",
    "    s = f\"/Users/adityachawla/bc22/Battlecode22/gradlew run -PteamA={teamA} -PteamB={teamB} -Pmaps={field} -PprofilerEnabled=false\"\n",
    "    return s.split()\n"
   ]
  },
  {
   "cell_type": "code",
   "execution_count": 458,
   "id": "7a23ecdf",
   "metadata": {
    "scrolled": true
   },
   "outputs": [],
   "source": [
    "process = subprocess.Popen(match('examplefuncsplayer','defensivebot2'), stdout=subprocess.PIPE) "
   ]
  },
  {
   "cell_type": "code",
   "execution_count": 459,
   "id": "f052274a",
   "metadata": {},
   "outputs": [],
   "source": [
    "logs_str = process.stdout.read().decode(\"utf-8\") \n",
    "logs = logs_str.split('\\n')"
   ]
  },
  {
   "cell_type": "code",
   "execution_count": 460,
   "id": "2253b749",
   "metadata": {},
   "outputs": [
    {
     "data": {
      "text/plain": [
       "92259"
      ]
     },
     "execution_count": 460,
     "metadata": {},
     "output_type": "execute_result"
    }
   ],
   "source": [
    "len(logs)"
   ]
  },
  {
   "cell_type": "code",
   "execution_count": 461,
   "id": "36a6b142",
   "metadata": {},
   "outputs": [],
   "source": [
    "import re\n",
    "actions = []\n",
    "for log in logs:\n",
    "    matches = re.findall(r'\\[(\\w):(\\w*)#(\\w*)@(\\d*)\\].*?(\\d).*?msg: bytecode remaining after (\\w*): (\\d*)',log)\n",
    "    if len(matches) == 0:\n",
    "        continue\n",
    "    team,unit,uid,roundnum,turn,action,bytecode = matches[0]\n",
    "    actions.append((uid,action))\n",
    "\n",
    "action_break = []\n",
    "\n",
    "lis = []\n",
    "prev = (None,None)\n",
    "for action in actions:\n",
    "    if action[0] != prev[0]:\n",
    "        if prev[0] is not None:\n",
    "            action_break.append(lis)\n",
    "        lis = []\n",
    "    prev = action\n",
    "    lis.append(action)"
   ]
  },
  {
   "cell_type": "code",
   "execution_count": 462,
   "id": "15858644",
   "metadata": {},
   "outputs": [
    {
     "data": {
      "text/plain": [
       "Counter({2: 2718, 1: 658, 3: 28709})"
      ]
     },
     "execution_count": 462,
     "metadata": {},
     "output_type": "execute_result"
    }
   ],
   "source": [
    "from collections import Counter\n",
    "Counter([len(a) for a in action_break])"
   ]
  },
  {
   "cell_type": "code",
   "execution_count": 198,
   "id": "581f5f17",
   "metadata": {},
   "outputs": [
    {
     "data": {
      "text/plain": [
       "[('B', 'ARCHON', '2', '1', '1', 'sensing', '12825')]"
      ]
     },
     "execution_count": 198,
     "metadata": {},
     "output_type": "execute_result"
    }
   ],
   "source": [
    "Counter({2: 2701, 1: 756, 3: 22786}) # sector 8\n",
    "Counter({2: 16505, 3: 63027, 1: 11040}) # sector 6"
   ]
  },
  {
   "cell_type": "code",
   "execution_count": 160,
   "id": "814de567",
   "metadata": {},
   "outputs": [
    {
     "data": {
      "text/plain": [
       "['[2]']"
      ]
     },
     "execution_count": 160,
     "metadata": {},
     "output_type": "execute_result"
    }
   ],
   "source": [
    "re.findall(r'\\[\\d\\]',logs[50])"
   ]
  },
  {
   "cell_type": "code",
   "execution_count": null,
   "id": "02023d27",
   "metadata": {},
   "outputs": [],
   "source": []
  }
 ],
 "metadata": {
  "kernelspec": {
   "display_name": "Python 3 (ipykernel)",
   "language": "python",
   "name": "python3"
  },
  "language_info": {
   "codemirror_mode": {
    "name": "ipython",
    "version": 3
   },
   "file_extension": ".py",
   "mimetype": "text/x-python",
   "name": "python",
   "nbconvert_exporter": "python",
   "pygments_lexer": "ipython3",
   "version": "3.8.8"
  }
 },
 "nbformat": 4,
 "nbformat_minor": 5
}
