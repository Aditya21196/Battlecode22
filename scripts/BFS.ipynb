{
 "cells": [
  {
   "cell_type": "code",
   "execution_count": 63,
   "id": "91a5ed0c",
   "metadata": {
    "scrolled": true
   },
   "outputs": [],
   "source": [
    "from collections import deque\n",
    "import math\n",
    "\n",
    "q = deque([(0,0)])\n",
    "\n",
    "visited = dict()\n",
    "tiles = []\n",
    "max_d = 34\n",
    "dist = 0\n",
    "\n",
    "while q:\n",
    "    l = len(q)\n",
    "    while l>0:\n",
    "        to_visit = q.popleft()\n",
    "        x,y = to_visit\n",
    "        l-= 1\n",
    "        if (x,y) in visited:\n",
    "            continue\n",
    "        visited[x,y] = True\n",
    "        tiles.append((x,y))\n",
    "        for i in [1,0,-1]:\n",
    "            for j in [1,0,-1]:\n",
    "                if (x+i)**2 + (y+j)**2 > max_d:\n",
    "                    continue\n",
    "                if (x+i,y+j) not in visited:\n",
    "                    q.append((x+i,y+j))\n",
    "        \n",
    "            "
   ]
  },
  {
   "cell_type": "code",
   "execution_count": 77,
   "id": "e3d5e744",
   "metadata": {},
   "outputs": [],
   "source": [
    "def filter_tiles(tiles,d_min,d_max):\n",
    "    return [a for a in tiles if d_min <= a[0]*a[0] + a[1]*a[1] <= d_max]\n",
    "\n",
    "def to_angle(a):\n",
    "    ans = math.degrees(math.atan2(a[1],a[0]))\n",
    "    if ans<0:\n",
    "        return ans + 360\n",
    "    return ans\n",
    "\n",
    "ftiles = filter_tiles(tiles,13,20)\n",
    "angles = [(to_angle(a),a) for a in ftiles]\n",
    "sorted_angles = sorted(angles)\n",
    "\n",
    "query = 63\n",
    "\n"
   ]
  },
  {
   "cell_type": "code",
   "execution_count": 106,
   "id": "db74ec9e",
   "metadata": {
    "scrolled": true
   },
   "outputs": [
    {
     "name": "stdout",
     "output_type": "stream",
     "text": [
      "4 , 0 },{ 4 , 1 },{ 4 , 2 },{ 3 , 2 },{ 3 , 3 },{ 2 , 3 },{ 2 , 4 },{ 1 , 4 },{ 0 , 4 },{ -1 , 4 },{ -2 , 4 },{ -2 , 3 },{ -3 , 3 },{ -3 , 2 },{ -4 , 2 },{ -4 , 1 },{ -4 , 0 },{ -4 , -1 },{ -4 , -2 },{ -3 , -2 },{ -3 , -3 },{ -2 , -3 },{ -2 , -4 },{ -1 , -4 },{ 0 , -4 },{ 1 , -4 },{ 2 , -4 },{ 2 , -3 },{ 3 , -3 },{ 3 , -2 },{ 4 , -2 },{ 4 , -1 },{ "
     ]
    }
   ],
   "source": [
    "for angle in sorted_angles:\n",
    "    a,b = angle[1]\n",
    "    print(a,\",\",b,'},{',end=' ')"
   ]
  },
  {
   "cell_type": "code",
   "execution_count": null,
   "id": "dd611c7a",
   "metadata": {},
   "outputs": [],
   "source": [
    "180/11.25"
   ]
  },
  {
   "cell_type": "code",
   "execution_count": 120,
   "id": "0e93e228",
   "metadata": {},
   "outputs": [
    {
     "data": {
      "text/plain": [
       "(75.96375653207353, (1, 4))"
      ]
     },
     "execution_count": 120,
     "metadata": {},
     "output_type": "execute_result"
    }
   ],
   "source": [
    "sorted_angles[7]"
   ]
  },
  {
   "cell_type": "code",
   "execution_count": 123,
   "id": "6f9f6733",
   "metadata": {},
   "outputs": [
    {
     "data": {
      "text/plain": [
       "(90.0, (0, 4))"
      ]
     },
     "execution_count": 123,
     "metadata": {},
     "output_type": "execute_result"
    }
   ],
   "source": [
    "sorted_angles[8]"
   ]
  },
  {
   "cell_type": "code",
   "execution_count": 126,
   "id": "0aab7491",
   "metadata": {},
   "outputs": [
    {
     "data": {
      "text/plain": [
       "8.0"
      ]
     },
     "execution_count": 126,
     "metadata": {},
     "output_type": "execute_result"
    }
   ],
   "source": [
    "90/11.25"
   ]
  },
  {
   "cell_type": "code",
   "execution_count": 119,
   "id": "170b8d58",
   "metadata": {},
   "outputs": [
    {
     "data": {
      "text/plain": [
       "[(0.0, (4, 0)),\n",
       " (14.036243467926479, (4, 1)),\n",
       " (26.56505117707799, (4, 2)),\n",
       " (33.690067525979785, (3, 2)),\n",
       " (45.0, (3, 3)),\n",
       " (56.309932474020215, (2, 3)),\n",
       " (63.43494882292201, (2, 4)),\n",
       " (75.96375653207353, (1, 4)),\n",
       " (90.0, (0, 4)),\n",
       " (104.03624346792648, (-1, 4)),\n",
       " (116.56505117707799, (-2, 4)),\n",
       " (123.69006752597979, (-2, 3)),\n",
       " (135.0, (-3, 3)),\n",
       " (146.30993247402023, (-3, 2)),\n",
       " (153.434948822922, (-4, 2)),\n",
       " (165.96375653207352, (-4, 1)),\n",
       " (180.0, (-4, 0)),\n",
       " (194.03624346792648, (-4, -1)),\n",
       " (206.565051177078, (-4, -2)),\n",
       " (213.69006752597977, (-3, -2)),\n",
       " (225.0, (-3, -3)),\n",
       " (236.30993247402023, (-2, -3)),\n",
       " (243.43494882292202, (-2, -4)),\n",
       " (255.96375653207352, (-1, -4)),\n",
       " (270.0, (0, -4)),\n",
       " (284.03624346792645, (1, -4)),\n",
       " (296.565051177078, (2, -4)),\n",
       " (303.69006752597977, (2, -3)),\n",
       " (315.0, (3, -3)),\n",
       " (326.30993247402023, (3, -2)),\n",
       " (333.434948822922, (4, -2)),\n",
       " (345.96375653207355, (4, -1))]"
      ]
     },
     "execution_count": 119,
     "metadata": {},
     "output_type": "execute_result"
    }
   ],
   "source": [
    "sorted_angles"
   ]
  },
  {
   "cell_type": "code",
   "execution_count": 114,
   "id": "aa9d8dcd",
   "metadata": {},
   "outputs": [
    {
     "data": {
      "text/plain": [
       "27"
      ]
     },
     "execution_count": 114,
     "metadata": {},
     "output_type": "execute_result"
    }
   ],
   "source": []
  },
  {
   "cell_type": "code",
   "execution_count": 115,
   "id": "d9ba0d8b",
   "metadata": {},
   "outputs": [
    {
     "data": {
      "text/plain": [
       "[(303.69006752597977, (2, -3)),\n",
       " (315.0, (3, -3)),\n",
       " (326.30993247402023, (3, -2)),\n",
       " (333.434948822922, (4, -2)),\n",
       " (345.96375653207355, (4, -1))]"
      ]
     },
     "execution_count": 115,
     "metadata": {},
     "output_type": "execute_result"
    }
   ],
   "source": [
    "sorted_angles[27:]"
   ]
  },
  {
   "cell_type": "code",
   "execution_count": 112,
   "id": "77b00d26",
   "metadata": {},
   "outputs": [
    {
     "data": {
      "text/plain": [
       "[(0.0, (4, 0)),\n",
       " (14.036243467926479, (4, 1)),\n",
       " (26.56505117707799, (4, 2)),\n",
       " (33.690067525979785, (3, 2))]"
      ]
     },
     "execution_count": 112,
     "metadata": {},
     "output_type": "execute_result"
    }
   ],
   "source": [
    "sorted_angles[:4]"
   ]
  },
  {
   "cell_type": "code",
   "execution_count": 108,
   "id": "00403e4a",
   "metadata": {},
   "outputs": [
    {
     "data": {
      "text/plain": [
       "32.0"
      ]
     },
     "execution_count": 108,
     "metadata": {},
     "output_type": "execute_result"
    }
   ],
   "source": [
    "360/11.25"
   ]
  },
  {
   "cell_type": "code",
   "execution_count": 95,
   "id": "26eebb8f",
   "metadata": {},
   "outputs": [
    {
     "data": {
      "text/plain": [
       "(206.565051177078, (-4, -2))"
      ]
     },
     "execution_count": 95,
     "metadata": {},
     "output_type": "execute_result"
    }
   ],
   "source": [
    "sorted_angles[18]"
   ]
  },
  {
   "cell_type": "code",
   "execution_count": 94,
   "id": "a66ca7b3",
   "metadata": {},
   "outputs": [
    {
     "data": {
      "text/plain": [
       "18.8"
      ]
     },
     "execution_count": 94,
     "metadata": {},
     "output_type": "execute_result"
    }
   ],
   "source": [
    "2.8 - 16 + 32"
   ]
  },
  {
   "cell_type": "code",
   "execution_count": 90,
   "id": "b42a52fd",
   "metadata": {},
   "outputs": [
    {
     "data": {
      "text/plain": [
       "(116.56505117707799, (-2, 4))"
      ]
     },
     "execution_count": 90,
     "metadata": {},
     "output_type": "execute_result"
    }
   ],
   "source": [
    "sorted_angles[10]"
   ]
  },
  {
   "cell_type": "code",
   "execution_count": 89,
   "id": "0d771c7d",
   "metadata": {},
   "outputs": [
    {
     "data": {
      "text/plain": [
       "10.8"
      ]
     },
     "execution_count": 89,
     "metadata": {},
     "output_type": "execute_result"
    }
   ],
   "source": [
    "2.8 - 8 + 16"
   ]
  },
  {
   "cell_type": "code",
   "execution_count": 87,
   "id": "4b1e1bba",
   "metadata": {},
   "outputs": [
    {
     "data": {
      "text/plain": [
       "2.8"
      ]
     },
     "execution_count": 87,
     "metadata": {},
     "output_type": "execute_result"
    }
   ],
   "source": [
    "63/22.5"
   ]
  },
  {
   "cell_type": "code",
   "execution_count": 82,
   "id": "b0f75213",
   "metadata": {
    "scrolled": true
   },
   "outputs": [
    {
     "data": {
      "text/plain": [
       "32"
      ]
     },
     "execution_count": 82,
     "metadata": {},
     "output_type": "execute_result"
    }
   ],
   "source": [
    "len(sorted_angles)"
   ]
  },
  {
   "cell_type": "code",
   "execution_count": 79,
   "id": "cf440e46",
   "metadata": {},
   "outputs": [
    {
     "data": {
      "text/plain": [
       "153"
      ]
     },
     "execution_count": 79,
     "metadata": {},
     "output_type": "execute_result"
    }
   ],
   "source": [
    "63+90\n"
   ]
  },
  {
   "cell_type": "code",
   "execution_count": 80,
   "id": "1da4d372",
   "metadata": {},
   "outputs": [
    {
     "data": {
      "text/plain": [
       "333"
      ]
     },
     "execution_count": 80,
     "metadata": {},
     "output_type": "execute_result"
    }
   ],
   "source": [
    "63-90+360"
   ]
  },
  {
   "cell_type": "code",
   "execution_count": null,
   "id": "4fe6572d",
   "metadata": {},
   "outputs": [],
   "source": []
  },
  {
   "cell_type": "code",
   "execution_count": 78,
   "id": "a1942029",
   "metadata": {},
   "outputs": [
    {
     "data": {
      "text/plain": [
       "32"
      ]
     },
     "execution_count": 78,
     "metadata": {},
     "output_type": "execute_result"
    }
   ],
   "source": [
    "len(sorted_angles)"
   ]
  },
  {
   "cell_type": "code",
   "execution_count": null,
   "id": "6eb009ec",
   "metadata": {},
   "outputs": [],
   "source": []
  },
  {
   "cell_type": "code",
   "execution_count": null,
   "id": "e2572a73",
   "metadata": {},
   "outputs": [],
   "source": []
  }
 ],
 "metadata": {
  "kernelspec": {
   "display_name": "Python 3 (ipykernel)",
   "language": "python",
   "name": "python3"
  },
  "language_info": {
   "codemirror_mode": {
    "name": "ipython",
    "version": 3
   },
   "file_extension": ".py",
   "mimetype": "text/x-python",
   "name": "python",
   "nbconvert_exporter": "python",
   "pygments_lexer": "ipython3",
   "version": "3.8.8"
  }
 },
 "nbformat": 4,
 "nbformat_minor": 5
}
