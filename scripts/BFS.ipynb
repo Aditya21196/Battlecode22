{
 "cells": [
  {
   "cell_type": "code",
   "execution_count": 50,
   "id": "91a5ed0c",
   "metadata": {
    "scrolled": true
   },
   "outputs": [
    {
     "name": "stdout",
     "output_type": "stream",
     "text": [
      "{0,0}, {1,1}, {1,0}, {1,-1}, {0,1}, {0,-1}, {-1,1}, {-1,0}, {-1,-1}, {2,2}, {2,1}, {2,0}, {1,2}, {0,2}, {2,-1}, {2,-2}, {1,-2}, {0,-2}, {-1,2}, {-1,-2}, {-2,2}, {-2,1}, {-2,0}, {-2,-1}, {-2,-2}, {3,3}, {3,2}, {3,1}, {2,3}, {1,3}, {3,0}, {3,-1}, {0,3}, {-1,3}, {3,-2}, {3,-3}, {2,-3}, {1,-3}, {0,-3}, {-1,-3}, {-2,3}, {-2,-3}, {-3,3}, {-3,2}, {-3,1}, {-3,0}, {-3,-1}, {-3,-2}, {-3,-3}, {4,3}, {4,2}, {3,4}, {2,4}, {4,1}, {4,0}, {1,4}, {0,4}, {4,-1}, {4,-2}, {-1,4}, {-2,4}, {4,-3}, {3,-4}, {2,-4}, {1,-4}, {0,-4}, {-1,-4}, {-2,-4}, {-3,4}, {-3,-4}, {-4,3}, {-4,2}, {-4,1}, {-4,0}, {-4,-1}, {-4,-2}, {-4,-3}, {5,0}, {0,5}, {0,-5}, {-5,0}, "
     ]
    }
   ],
   "source": [
    "from collections import deque\n",
    "\n",
    "q = deque([(0,0)])\n",
    "\n",
    "visited = dict()\n",
    "\n",
    "max_d = 25\n",
    "dist = 0\n",
    "\n",
    "while dist<max_d:\n",
    "    l = len(q)\n",
    "    dist += 1\n",
    "    while l>0:\n",
    "        to_visit = q.popleft()\n",
    "        x,y = to_visit\n",
    "        l-= 1\n",
    "        if (x,y) in visited:\n",
    "            continue\n",
    "        visited[x,y] = True\n",
    "        print(f\"{{{x},{y}}},\",end=' ')\n",
    "        \n",
    "        for i in [1,0,-1]:\n",
    "            for j in [1,0,-1]:\n",
    "                if (x+i)**2 + (y+j)**2 > max_d:\n",
    "                    continue\n",
    "                if (x+i,y+j) not in visited:\n",
    "                    q.append((x+i,y+j))\n",
    "        \n",
    "            "
   ]
  },
  {
   "cell_type": "code",
   "execution_count": 11,
   "id": "e3d5e744",
   "metadata": {},
   "outputs": [
    {
     "ename": "KeyError",
     "evalue": "(1, 1)",
     "output_type": "error",
     "traceback": [
      "\u001b[0;31m---------------------------------------------------------------------------\u001b[0m",
      "\u001b[0;31mKeyError\u001b[0m                                  Traceback (most recent call last)",
      "\u001b[0;32m/var/folders/1x/qc9ydz9s4vd2vjjqzx68nt0m0000gn/T/ipykernel_54169/3058707814.py\u001b[0m in \u001b[0;36m<module>\u001b[0;34m\u001b[0m\n\u001b[0;32m----> 1\u001b[0;31m \u001b[0mvisited\u001b[0m\u001b[0;34m[\u001b[0m\u001b[0;36m1\u001b[0m\u001b[0;34m,\u001b[0m\u001b[0;36m1\u001b[0m\u001b[0;34m]\u001b[0m\u001b[0;34m\u001b[0m\u001b[0;34m\u001b[0m\u001b[0m\n\u001b[0m",
      "\u001b[0;31mKeyError\u001b[0m: (1, 1)"
     ]
    }
   ],
   "source": [
    "visited[1,1]"
   ]
  }
 ],
 "metadata": {
  "kernelspec": {
   "display_name": "Python 3 (ipykernel)",
   "language": "python",
   "name": "python3"
  },
  "language_info": {
   "codemirror_mode": {
    "name": "ipython",
    "version": 3
   },
   "file_extension": ".py",
   "mimetype": "text/x-python",
   "name": "python",
   "nbconvert_exporter": "python",
   "pygments_lexer": "ipython3",
   "version": "3.8.8"
  }
 },
 "nbformat": 4,
 "nbformat_minor": 5
}
